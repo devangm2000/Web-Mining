{
 "cells": [
  {
   "cell_type": "markdown",
   "metadata": {
    "heading_collapsed": true
   },
   "source": [
    "# LAB 3\n"
   ]
  },
  {
   "cell_type": "markdown",
   "metadata": {},
   "source": [
    "# q1\n"
   ]
  },
  {
   "cell_type": "code",
   "execution_count": null,
   "metadata": {},
   "outputs": [],
   "source": [
    "import networkx as nx\n",
    "import numpy as np\n",
    "import matplotlib.pyplot as plt \n",
    " \n",
    "d = nx.Graph()\n",
    "edges = nx.read_edgelist('Wiki-Vote.txt')\n",
    "d.add_edges_from(edges.edges())\n",
    "nx.draw(d, with_labels=True, font_weight='bold')\n",
    "plt.savefig(\"filename.png\")"
   ]
  },
  {
   "cell_type": "code",
   "execution_count": null,
   "metadata": {},
   "outputs": [],
   "source": [
    "import networkx as nx\n",
    "import numpy as np\n",
    "n_nodes=7114\n",
    "degree_prestige = dict((v,len(d.edges(v))/(n_nodes-1)) for v in d.nodes())\n",
    "print(\"DEGREE PRESTIGE :\\n\")\n",
    "\n",
    "for i in degree_prestige:\n",
    "    print(i, \" : \", degree_prestige[i])"
   ]
  },
  {
   "cell_type": "code",
   "execution_count": null,
   "metadata": {},
   "outputs": [],
   "source": [
    "x=list(d.nodes)\n",
    "distance=[]\n",
    "\n",
    "for i in range(0,500) :\n",
    "    temp_dis = 0\n",
    "    n = 0\n",
    "    for j in range(0,500):\n",
    "        if(nx.has_path(d,x[i],x[j]) == True):\n",
    "            temp_dis = temp_dis + nx.shortest_path_length(d,source = x[j],target = x[i])\n",
    "            n = n + 1\n",
    "    if temp_dis == 0:\n",
    "        distance.append([x[i], 0])\n",
    "    else:\n",
    "        distance.append([x[i], temp_dis/(n - 1)])\n",
    "\n",
    "print(\"\\nPROXIMITY PRESTIGE :\\n\")\n",
    "for i in distance:\n",
    "    print(str(i[0]) + \" : \" + str(i[1]))"
   ]
  },
  {
   "cell_type": "code",
   "execution_count": null,
   "metadata": {
    "scrolled": false
   },
   "outputs": [],
   "source": [
    "prominance = np.random.randint(1, 4, size=n_nodes)\n",
    "rank_prestige = np.zeros([n_nodes], dtype = int)\n",
    "path_matrix = np.zeros([n_nodes, n_nodes], dtype = int)\n",
    "i = 0\n",
    "j = 0\n",
    "for src in d.nodes:\n",
    "    for dest in d.nodes:\n",
    "        if d.has_edge(dest, src):\n",
    "            path_matrix[i][j] = 1\n",
    "        j = j+1\n",
    "    j = 0\n",
    "    i = i+1\n",
    "for i in range(n_nodes):\n",
    "    pr_i = 0\n",
    "    for j in range(n_nodes):\n",
    "        pr_i = pr_i + path_matrix[i][j] * prominance[j]\n",
    "    rank_prestige[i] = pr_i\n",
    "\n",
    "print(\"\\nRANK PRESTIGE :\\n\")\n",
    "print(rank_prestige)"
   ]
  },
  {
   "cell_type": "markdown",
   "metadata": {
    "heading_collapsed": true
   },
   "source": [
    "# q3\n"
   ]
  },
  {
   "cell_type": "code",
   "execution_count": 1,
   "metadata": {
    "hidden": true
   },
   "outputs": [],
   "source": [
    "# Load libraries\n",
    "import pandas as pd\n",
    "import numpy as np\n",
    "data = pd.read_excel( \"Credit card approval.xls\") \n",
    "data['A1'] = data['A1'].replace(['a','b'],[1,2])\n",
    "data['A4'] = data['A4'].replace(['u','y','l'],[1,2,3])\n",
    "data['A5'] = data['A5'].replace(['g','p','gg'],[1,2,3])\n",
    "data['A6'] = data['A6'].replace(['w', 'q', 'm', 'r', 'cc', 'k', 'c', 'd', 'x', 'i', 'e', 'aa', 'ff','j'],[1,2,3,4,5,6,7,8,9,10,11,12,13,14])\n",
    "data['A7'] = data['A7'].replace(['v', 'h', 'bb', 'ff', 'j', 'z', 'o', 'dd', 'n'],[1,2,3,4,5,6,7,8,9])\n",
    "data['A9'] = data['A9'].replace(['t','f'],[1,0])\n",
    "data['A10'] = data['A10'].replace(['t','f'],[1,0])\n",
    "data['A12'] = data['A12'].replace(['t','f'],[1,0])\n",
    "data['A13'] = data['A13'].replace(['g', 's', 'p'],[1,2,3])\n",
    "data['A16'] = data['A16'].replace(['+','-'],[1,0])\n",
    "data = data.replace(to_replace = '?',value = np.nan)\n",
    "data = data.dropna()\n",
    "#split dataset in features and target variable\n",
    "feature_cols = ['A1','A2', 'A3', 'A4','A5','A6','A7','A8','A9','A10','A11','A12','A13','A14','A15']\n",
    "X = data[feature_cols] # Features\n",
    "Y = data.A16 # Target variable"
   ]
  },
  {
   "cell_type": "code",
   "execution_count": 2,
   "metadata": {
    "hidden": true
   },
   "outputs": [
    {
     "name": "stdout",
     "output_type": "stream",
     "text": [
      "      A1     A2      A3   A4   A5    A6   A7     A8  A9  A10  A11  A12  A13  \\\n",
      "0    2.0  30.83   0.000  1.0  1.0   1.0  1.0  1.250   1    1    1    0    1   \n",
      "2    1.0  24.50   0.500  1.0  1.0   2.0  2.0  1.500   1    0    0    0    1   \n",
      "4    2.0  20.17   5.625  1.0  1.0   1.0  1.0  1.710   1    0    0    0    2   \n",
      "5    2.0  32.08   4.000  1.0  1.0   3.0  1.0  2.500   1    0    0    1    1   \n",
      "6    2.0  33.17   1.040  1.0  1.0   4.0  2.0  6.500   1    0    0    1    1   \n",
      "..   ...    ...     ...  ...  ...   ...  ...    ...  ..  ...  ...  ...  ...   \n",
      "683  2.0  36.42   0.750  2.0  2.0   8.0  1.0  0.585   0    0    0    0    1   \n",
      "684  2.0  40.58   3.290  1.0  1.0   3.0  1.0  3.500   0    0    0    1    2   \n",
      "685  2.0  21.08  10.085  2.0  2.0  11.0  2.0  1.250   0    0    0    0    1   \n",
      "687  1.0  25.25  13.500  2.0  2.0  13.0  4.0  2.000   0    1    1    1    1   \n",
      "689  2.0  35.00   3.375  1.0  1.0   7.0  2.0  8.290   0    0    0    1    1   \n",
      "\n",
      "       A14    A15  A16  \n",
      "0    202.0      0    1  \n",
      "2    280.0    824    1  \n",
      "4    120.0      0    1  \n",
      "5    360.0      0    1  \n",
      "6    164.0  31285    1  \n",
      "..     ...    ...  ...  \n",
      "683  240.0      3    0  \n",
      "684  400.0      0    0  \n",
      "685  260.0      0    0  \n",
      "687  200.0      1    0  \n",
      "689    0.0      0    0  \n",
      "\n",
      "[522 rows x 16 columns]\n",
      "      A1     A2     A3   A4   A5    A6   A7     A8  A9  A10  A11  A12  A13  \\\n",
      "1    1.0  58.67  4.460  1.0  1.0   2.0  2.0  3.040   1    1    6    0    1   \n",
      "3    2.0  27.83  1.540  1.0  1.0   1.0  1.0  3.750   1    1    5    1    1   \n",
      "10   2.0  22.08  0.830  1.0  1.0   7.0  2.0  2.165   0    0    0    1    1   \n",
      "13   2.0  48.08  6.040  1.0  1.0   6.0  1.0  0.040   0    0    0    0    1   \n",
      "16   2.0  28.25  0.875  1.0  1.0   3.0  1.0  0.960   1    1    3    1    1   \n",
      "..   ...    ...    ...  ...  ...   ...  ...    ...  ..  ...  ...  ...  ...   \n",
      "659  1.0  28.58  3.750  1.0  1.0   7.0  1.0  0.250   0    1    1    1    1   \n",
      "665  2.0  31.83  0.040  2.0  2.0   3.0  1.0  0.040   0    0    0    0    1   \n",
      "680  2.0  19.50  0.290  1.0  1.0   6.0  1.0  0.290   0    0    0    0    1   \n",
      "686  1.0  22.67  0.750  1.0  1.0   7.0  1.0  2.000   0    1    2    1    1   \n",
      "688  2.0  17.92  0.205  1.0  1.0  12.0  1.0  0.040   0    0    0    0    1   \n",
      "\n",
      "       A14   A15  A16  \n",
      "1     43.0   560    1  \n",
      "3    100.0     3    1  \n",
      "10   128.0     0    1  \n",
      "13     0.0  2690    1  \n",
      "16   396.0     0    1  \n",
      "..     ...   ...  ...  \n",
      "659   40.0   154    0  \n",
      "665    0.0     0    0  \n",
      "680  280.0   364    0  \n",
      "686  200.0   394    0  \n",
      "688  280.0   750    0  \n",
      "\n",
      "[131 rows x 16 columns]\n"
     ]
    }
   ],
   "source": [
    "# K Fold cross validation technique (here K =5)\n",
    "from sklearn.model_selection import KFold\n",
    "\n",
    "kf = KFold(n_splits = 5, shuffle = True, random_state = 2)\n",
    "result = next(kf.split(data), None)\n",
    "\n",
    "train = data.iloc[result[0]]\n",
    "test =  data.iloc[result[1]]\n",
    "\n",
    "print(train)\n",
    "print(test)"
   ]
  },
  {
   "cell_type": "code",
   "execution_count": 3,
   "metadata": {
    "hidden": true
   },
   "outputs": [],
   "source": [
    "# Load libraries\n",
    "import pandas as pd\n",
    "from sklearn.tree import DecisionTreeClassifier # Import Decision Tree Classifier\n",
    "from sklearn.model_selection import train_test_split # Import train_test_split function\n",
    "from sklearn import metrics #Import scikit-learn metrics module for accuracy calculation\n",
    "from sklearn.metrics import confusion_matrix \n",
    "from sklearn.model_selection import train_test_split \n",
    "from sklearn.tree import DecisionTreeClassifier \n",
    "from sklearn.metrics import accuracy_score \n",
    "from sklearn.metrics import classification_report\n",
    "\n",
    "feature_cols = ['A1','A2','A3','A4','A5','A6','A7','A8','A9','A10','A11','A12','A13','A14','A15']\n",
    "X = data[feature_cols] # Features\n",
    "y = data.A16 # Target variable\n",
    "X_train, X_test, y_train, y_test = train_test_split(X, y, test_size=0.3, random_state=1)"
   ]
  },
  {
   "cell_type": "code",
   "execution_count": 4,
   "metadata": {
    "hidden": true
   },
   "outputs": [
    {
     "name": "stdout",
     "output_type": "stream",
     "text": [
      "\n",
      "------Decision Tree------\n",
      "\n",
      "Predicted values: [1 0 0 0 1 0 0 0 1 1 1 1 0 1 0 1 1 0 1 0 1 1 0 0 1 1 0 0 1 1 1 0 1 1 0 1 0\n",
      " 0 0 0 1 0 1 0 0 0 1 0 0 1 1 0 0 1 0 0 1 1 0 0 1 0 0 0 1 1 1 0 0 1 0 1 0 1\n",
      " 0 0 0 1 1 1 0 1 0 1 1 0 0 0 1 1 1 1 1 0 1 0 0 1 0 1 1 0 1 0 1 1 1 1 1 0 1\n",
      " 0 0 0 1 0 1 0 0 0 1 1 1 0 0 0 1 1 1 1 0 0 1 0 1 0 0 0 1 0 1 0 1 1 0 0 0 0\n",
      " 0 1 0 0 1 1 0 0 1 1 1 0 0 0 1 0 0 1 0 0 1 0 1 1 0 1 0 1 1 1 1 1 1 1 1 1 1\n",
      " 1 0 0 1 0 1 1 0 0 0 1]\n",
      "Confusion Matrix: \n",
      " [[90 19]\n",
      " [ 7 80]]\n",
      "Accuracy: 86.73469387755102\n",
      "Report : \n",
      "               precision    recall  f1-score   support\n",
      "\n",
      "           0       0.93      0.83      0.87       109\n",
      "           1       0.81      0.92      0.86        87\n",
      "\n",
      "    accuracy                           0.87       196\n",
      "   macro avg       0.87      0.87      0.87       196\n",
      "weighted avg       0.87      0.87      0.87       196\n",
      "\n"
     ]
    }
   ],
   "source": [
    "#Decision Tree\n",
    "\n",
    "# Create Decision Tree classifer object\n",
    "clf = DecisionTreeClassifier(criterion = \"entropy\", max_depth=3) \n",
    "\n",
    "# Train Decision Tree Classifer\n",
    "clf = clf.fit(X_train,y_train)\n",
    "\n",
    "#Predict the response for test dataset\n",
    "y_pred = clf.predict(X_test)\n",
    "\n",
    "print(\"\\n------Decision Tree------\\n\")\n",
    "# Predicted values\n",
    "print(\"Predicted values:\",y_pred)\n",
    "\n",
    "#Confusion Matrix\n",
    "print(\"Confusion Matrix: \\n\",confusion_matrix(y_test, y_pred))\n",
    "# Model Accuracy, how often is the classifier correct?\n",
    "print(\"Accuracy:\",metrics.accuracy_score(y_test, y_pred)*100)\n",
    "# Report containing precision,recall,f1-score,support\n",
    "print(\"Report : \\n\",classification_report(y_test, y_pred))"
   ]
  },
  {
   "cell_type": "code",
   "execution_count": 1,
   "metadata": {
    "hidden": true
   },
   "outputs": [
    {
     "ename": "NameError",
     "evalue": "name 'tree' is not defined",
     "output_type": "error",
     "traceback": [
      "\u001b[1;31m---------------------------------------------------------------------------\u001b[0m",
      "\u001b[1;31mNameError\u001b[0m                                 Traceback (most recent call last)",
      "\u001b[1;32m<ipython-input-1-f27a926918fe>\u001b[0m in \u001b[0;36m<module>\u001b[1;34m\u001b[0m\n\u001b[1;32m----> 1\u001b[1;33m \u001b[0mtree\u001b[0m\u001b[1;33m.\u001b[0m\u001b[0mplot_tree\u001b[0m\u001b[1;33m(\u001b[0m\u001b[0mclassmethodifier\u001b[0m\u001b[1;33m)\u001b[0m\u001b[1;33m;\u001b[0m\u001b[1;33m\u001b[0m\u001b[1;33m\u001b[0m\u001b[0m\n\u001b[0m",
      "\u001b[1;31mNameError\u001b[0m: name 'tree' is not defined"
     ]
    }
   ],
   "source": [
    "from sklearn import tree\n",
    "tree.plot_tree(classifier);"
   ]
  },
  {
   "cell_type": "code",
   "execution_count": 6,
   "metadata": {
    "hidden": true
   },
   "outputs": [
    {
     "name": "stdout",
     "output_type": "stream",
     "text": [
      "\n",
      "------Naive Bayes------\n",
      "\n",
      "Predicted values: [1 0 0 0 1 0 0 0 1 1 0 1 0 1 0 1 1 0 1 0 1 1 0 0 1 0 0 0 1 1 1 0 0 0 0 1 0\n",
      " 0 0 0 0 0 0 0 0 0 1 0 0 1 1 0 0 0 1 0 0 1 0 0 1 0 0 0 0 0 0 0 0 1 0 1 0 0\n",
      " 0 0 0 1 0 1 0 1 0 0 1 0 0 0 0 1 1 1 0 1 0 0 0 1 0 1 1 0 1 0 1 1 1 0 0 0 1\n",
      " 0 0 0 1 0 1 1 0 0 1 1 1 0 0 0 1 1 0 1 0 0 0 0 1 1 0 0 0 0 1 0 1 1 0 0 0 0\n",
      " 0 1 0 0 1 0 0 0 1 1 0 0 0 0 1 0 0 1 0 0 1 0 0 0 0 0 0 0 1 1 1 1 0 1 0 1 1\n",
      " 1 0 0 0 1 1 1 0 0 0 0]\n",
      "Confusion Matrix: \n",
      " [[98 11]\n",
      " [26 61]]\n",
      "Accuracy: 81.12244897959184\n",
      "Report : \n",
      "               precision    recall  f1-score   support\n",
      "\n",
      "           0       0.79      0.90      0.84       109\n",
      "           1       0.85      0.70      0.77        87\n",
      "\n",
      "    accuracy                           0.81       196\n",
      "   macro avg       0.82      0.80      0.80       196\n",
      "weighted avg       0.82      0.81      0.81       196\n",
      "\n"
     ]
    }
   ],
   "source": [
    "#Naive Bayes\n",
    "\n",
    "from sklearn.naive_bayes import GaussianNB\n",
    "#Create a Gaussian Classifier\n",
    "gnb = GaussianNB()\n",
    "\n",
    "#Train the model using the training sets\n",
    "gnb.fit(X_train, y_train)\n",
    "\n",
    "#Predict the response for test dataset\n",
    "y_pred2 = gnb.predict(X_test)\n",
    "print(\"\\n------Naive Bayes------\\n\")\n",
    "\n",
    "# Predicted values\n",
    "print(\"Predicted values:\",y_pred2)\n",
    "\n",
    "#Confusion Matrix\n",
    "print(\"Confusion Matrix: \\n\",confusion_matrix(y_test, y_pred2))\n",
    "\n",
    "# Model Accuracy, how often is the classifier correct?\n",
    "print(\"Accuracy:\",metrics.accuracy_score(y_test, y_pred2)*100)\n",
    "\n",
    "# Report containing precision,recall,f1-score,support\n",
    "print(\"Report : \\n\",classification_report(y_test, y_pred2))\n"
   ]
  },
  {
   "cell_type": "code",
   "execution_count": 8,
   "metadata": {
    "hidden": true
   },
   "outputs": [
    {
     "name": "stdout",
     "output_type": "stream",
     "text": [
      "\n",
      "AUC Score for Decision Tree :  0.8726141516397764\n",
      "\n",
      "AUC Score for Naive Bayes :  0.8001159970473479\n"
     ]
    },
    {
     "data": {
      "image/png": "[encoded data removed]",
      "text/plain": [
       "<Figure size 576x396 with 1 Axes>"
      ]
     },
     "metadata": {},
     "output_type": "display_data"
    }
   ],
   "source": [
    "from sklearn.metrics import roc_auc_score\n",
    "from sklearn.metrics import roc_curve\n",
    "import matplotlib.pyplot as plt\n",
    "\n",
    "# roc curve for models\n",
    "fpr1, tpr1, thresh1 = roc_curve(y_test, y_pred, pos_label=1)\n",
    "fpr2, tpr2, thresh2 = roc_curve(y_test, y_pred2, pos_label=1)\n",
    "\n",
    "# auc score\n",
    "auc_score1 = roc_auc_score(y_test, y_pred)\n",
    "auc_score2 = roc_auc_score(y_test, y_pred2)\n",
    "print(\"\\nAUC Score for Decision Tree : \",auc_score1)\n",
    "print(\"\\nAUC Score for Naive Bayes : \",auc_score2)\n",
    "\n",
    "\n",
    "# plot roc curves\n",
    "plt.style.use('seaborn')\n",
    "plt.plot(fpr1, tpr1, linestyle='--',color='orange', label='Decision Tree')\n",
    "plt.plot(fpr2, tpr2, linestyle='--',color='blue', label='Naive Bayes')\n",
    "plt.title('ROC curve')\n",
    "plt.xlabel('False Positive Rate')\n",
    "plt.ylabel('True Positive rate')\n",
    "plt.legend()\n",
    "plt.savefig('ROC',dpi=300)\n",
    "plt.show();"
   ]
  },
  {
   "cell_type": "code",
   "execution_count": null,
   "metadata": {
    "hidden": true
   },
   "outputs": [],
   "source": []
  }
 ],
 "metadata": {
  "kernelspec": {
   "display_name": "Python 3",
   "language": "python",
   "name": "python3"
  },
  "language_info": {
   "codemirror_mode": {
    "name": "ipython",
    "version": 3
   },
   "file_extension": ".py",
   "mimetype": "text/x-python",
   "name": "python",
   "nbconvert_exporter": "python",
   "pygments_lexer": "ipython3",
   "version": "3.7.6"
  }
 },
 "nbformat": 4,
 "nbformat_minor": 2
}
