{
 "cells": [
  {
   "cell_type": "code",
   "execution_count": 1,
   "metadata": {},
   "outputs": [],
   "source": [
    "from nltk.tokenize import word_tokenize\n",
    "from nltk.tag import pos_tag\n",
    "from nltk.corpus import wordnet as wn\n",
    "import pandas as pd\n",
    "def tag(sentence):\n",
    "    words = word_tokenize(sentence)\n",
    "    words = pos_tag(words)\n",
    "    return words\n",
    "\n",
    "def paraphraseable(tag):\n",
    "    return tag.startswith('NN') or tag == 'VB' or tag.startswith('JJ')\n",
    "\n",
    "def pos(tag):\n",
    "    if tag.startswith('NN'):\n",
    "        return wn.NOUN\n",
    "    elif tag.startswith('V'):\n",
    "        return wn.VERB\n",
    "\n",
    "def synonyms(word, tag):\n",
    "    lemma_lists = [ss.lemmas() for ss in wn.synsets(word, pos(tag))]\n",
    "    lemmas = [lemma.name() for lemma in sum(lemma_lists, [])]\n",
    "    return set(lemmas)\n",
    "\n",
    "def synonymIfExists(sentence):\n",
    "    for (word, t) in tag(sentence):\n",
    "        if paraphraseable(t):\n",
    "            syns = synonyms(word, t)\n",
    "            if syns:\n",
    "                if len(syns) > 1:\n",
    "                    yield [word, list(syns)]\n",
    "                    continue\n",
    "        yield [word, []]\n",
    "\n",
    "def paraphrase(sentence):\n",
    "    return [x for x in synonymIfExists(sentence)]\n"
   ]
  },
  {
   "cell_type": "code",
   "execution_count": 2,
   "metadata": {},
   "outputs": [],
   "source": [
    "s1 = paraphrase(\"The quick brown fox jumps over the lazy dog\")\n",
    "s2 = paraphrase(\"Obama and Putin met the previous week\")\n",
    "s3 = paraphrase(\"At least 12 people were killed in the battle last week\")\n",
    "s4 = paraphrase(\"I will go home and come back tomorrow\")"
   ]
  },
  {
   "cell_type": "code",
   "execution_count": 3,
   "metadata": {},
   "outputs": [
    {
     "data": {
      "text/plain": [
       "([['The', []],\n",
       "  ['quick',\n",
       "   ['quick',\n",
       "    'flying',\n",
       "    'ready',\n",
       "    'straightaway',\n",
       "    'speedy',\n",
       "    'promptly',\n",
       "    'warm',\n",
       "    'immediate',\n",
       "    'agile',\n",
       "    'fast',\n",
       "    'prompt',\n",
       "    'nimble',\n",
       "    'spry',\n",
       "    'quickly']],\n",
       "  ['brown',\n",
       "   ['brown',\n",
       "    'Brown',\n",
       "    'Robert_Brown',\n",
       "    'Brown_University',\n",
       "    'John_Brown',\n",
       "    'brownness']],\n",
       "  ['fox',\n",
       "   ['Fox', 'slyboots', 'dodger', 'fox', 'Charles_James_Fox', 'George_Fox']],\n",
       "  ['jumps', []],\n",
       "  ['over', []],\n",
       "  ['the', []],\n",
       "  ['lazy', ['otiose', 'indolent', 'slothful', 'faineant', 'work-shy', 'lazy']],\n",
       "  ['dog',\n",
       "   ['wiener',\n",
       "    'frank',\n",
       "    'hound',\n",
       "    'blackguard',\n",
       "    'Canis_familiaris',\n",
       "    'weenie',\n",
       "    'firedog',\n",
       "    'cad',\n",
       "    'pawl',\n",
       "    'frump',\n",
       "    'click',\n",
       "    'bounder',\n",
       "    'andiron',\n",
       "    'hot_dog',\n",
       "    'domestic_dog',\n",
       "    'dog-iron',\n",
       "    'dog',\n",
       "    'heel',\n",
       "    'frankfurter',\n",
       "    'wienerwurst',\n",
       "    'hotdog',\n",
       "    'detent']]],\n",
       " [['Obama', []],\n",
       "  ['and', []],\n",
       "  ['Putin', ['Vladimir_Putin', 'Putin', 'Vladimir_Vladimirovich_Putin']],\n",
       "  ['met', []],\n",
       "  ['the', []],\n",
       "  ['previous', ['old', 'former', 'late', 'previous', 'premature']],\n",
       "  ['week', ['calendar_week', 'hebdomad', 'week', 'workweek']]],\n",
       " [['At', []],\n",
       "  ['least', ['least', 'to_the_lowest_degree']],\n",
       "  ['12', []],\n",
       "  ['people',\n",
       "   ['citizenry',\n",
       "    'people',\n",
       "    'masses',\n",
       "    'the_great_unwashed',\n",
       "    'multitude',\n",
       "    'mass',\n",
       "    'hoi_polloi']],\n",
       "  ['were', []],\n",
       "  ['killed', []],\n",
       "  ['in', []],\n",
       "  ['the', []],\n",
       "  ['battle', ['fight', 'battle', 'engagement', 'conflict', 'struggle']],\n",
       "  ['last',\n",
       "   ['endure',\n",
       "    'lowest',\n",
       "    'end',\n",
       "    'hold_up',\n",
       "    'finale',\n",
       "    'go',\n",
       "    'final',\n",
       "    'lastly',\n",
       "    'conclusion',\n",
       "    \"shoemaker's_last\",\n",
       "    'finally',\n",
       "    'utmost',\n",
       "    'finish',\n",
       "    'final_stage',\n",
       "    'death',\n",
       "    'in_conclusion',\n",
       "    'last',\n",
       "    'stopping_point',\n",
       "    'close',\n",
       "    'hold_out',\n",
       "    'terminal',\n",
       "    'concluding',\n",
       "    'survive',\n",
       "    'last-place',\n",
       "    \"cobbler's_last\",\n",
       "    'finis',\n",
       "    'live',\n",
       "    'net',\n",
       "    'live_on']],\n",
       "  ['week', ['calendar_week', 'hebdomad', 'week', 'workweek']]],\n",
       " [['I', []],\n",
       "  ['will', []],\n",
       "  ['go',\n",
       "   ['drop_dead',\n",
       "    'decease',\n",
       "    'run_short',\n",
       "    'locomote',\n",
       "    'depart',\n",
       "    'endure',\n",
       "    'get_going',\n",
       "    'work',\n",
       "    'function',\n",
       "    'hold_up',\n",
       "    'buy_the_farm',\n",
       "    'expire',\n",
       "    'conk',\n",
       "    'move',\n",
       "    'operate',\n",
       "    'rifle',\n",
       "    'go',\n",
       "    'plump',\n",
       "    'exit',\n",
       "    'blend_in',\n",
       "    'pass',\n",
       "    'fit',\n",
       "    \"cash_in_one's_chips\",\n",
       "    'give-up_the_ghost',\n",
       "    'pop_off',\n",
       "    'give_out',\n",
       "    'perish',\n",
       "    'belong',\n",
       "    'give_way',\n",
       "    'sound',\n",
       "    'become',\n",
       "    'go_away',\n",
       "    'lead',\n",
       "    'break',\n",
       "    'start',\n",
       "    'last',\n",
       "    'blend',\n",
       "    'hold_out',\n",
       "    'kick_the_bucket',\n",
       "    'get',\n",
       "    'conk_out',\n",
       "    'pass_away',\n",
       "    'fail',\n",
       "    'run',\n",
       "    'choke',\n",
       "    'survive',\n",
       "    'proceed',\n",
       "    'croak',\n",
       "    'snuff_it',\n",
       "    'travel',\n",
       "    'run_low',\n",
       "    'break_down',\n",
       "    'die',\n",
       "    'go_bad',\n",
       "    'live',\n",
       "    'live_on',\n",
       "    'extend']],\n",
       "  ['home',\n",
       "   ['home_base',\n",
       "    'domicile',\n",
       "    'place',\n",
       "    'nursing_home',\n",
       "    'rest_home',\n",
       "    'house',\n",
       "    'habitation',\n",
       "    'base',\n",
       "    'family',\n",
       "    'dwelling_house',\n",
       "    'menage',\n",
       "    'plate',\n",
       "    'home_plate',\n",
       "    'home',\n",
       "    'dwelling',\n",
       "    'household',\n",
       "    'abode']],\n",
       "  ['and', []],\n",
       "  ['come',\n",
       "   ['total',\n",
       "    'number',\n",
       "    'fall',\n",
       "    'descend',\n",
       "    'get_along',\n",
       "    'fare',\n",
       "    'do',\n",
       "    'come',\n",
       "    'arrive',\n",
       "    'make_out',\n",
       "    'hail',\n",
       "    'follow',\n",
       "    'issue_forth',\n",
       "    'amount',\n",
       "    'get',\n",
       "    'come_up',\n",
       "    'come_in',\n",
       "    'add_up',\n",
       "    'derive',\n",
       "    'occur']],\n",
       "  ['back', []],\n",
       "  ['tomorrow', []]])"
      ]
     },
     "execution_count": 3,
     "metadata": {},
     "output_type": "execute_result"
    }
   ],
   "source": [
    "s1,s2,s3,s4"
   ]
  },
  {
   "cell_type": "code",
   "execution_count": 58,
   "metadata": {},
   "outputs": [],
   "source": [
    "def parap(arr,j):\n",
    "    s1 = \"\"\n",
    "    \n",
    "    for i in range(len(arr)):\n",
    "        if(arr[i][1]==[]):\n",
    "            wrd=arr[i][0]\n",
    "        elif(len(arr[i][1])<=j):\n",
    "            wrd=arr[i][0]\n",
    "        else:\n",
    "            wrd=arr[i][1][j]\n",
    "        \n",
    "        s1=s1+\" \"+wrd\n",
    "    return s1\n",
    "        "
   ]
  },
  {
   "cell_type": "code",
   "execution_count": 59,
   "metadata": {},
   "outputs": [
    {
     "data": {
      "text/plain": [
       "' The speedy brownness Charles_James_Fox jumps over the otiose bounder'"
      ]
     },
     "execution_count": 59,
     "metadata": {},
     "output_type": "execute_result"
    }
   ],
   "source": [
    "parap(s1,1)"
   ]
  },
  {
   "cell_type": "code",
   "execution_count": 60,
   "metadata": {},
   "outputs": [
    {
     "data": {
      "text/plain": [
       "' The prompt Brown George_Fox jumps over the lazy dog'"
      ]
     },
     "execution_count": 60,
     "metadata": {},
     "output_type": "execute_result"
    }
   ],
   "source": [
    "parap(s1,2)"
   ]
  },
  {
   "cell_type": "code",
   "execution_count": 61,
   "metadata": {},
   "outputs": [
    {
     "data": {
      "text/plain": [
       "' The spry Robert_Brown fox jumps over the indolent frank'"
      ]
     },
     "execution_count": 61,
     "metadata": {},
     "output_type": "execute_result"
    }
   ],
   "source": [
    "parap(s1,3)"
   ]
  },
  {
   "cell_type": "code",
   "execution_count": 62,
   "metadata": {},
   "outputs": [
    {
     "data": {
      "text/plain": [
       "' Obama and Vladimir_Putin met the late calendar_week'"
      ]
     },
     "execution_count": 62,
     "metadata": {},
     "output_type": "execute_result"
    }
   ],
   "source": [
    "parap(s2,1)"
   ]
  },
  {
   "cell_type": "code",
   "execution_count": 63,
   "metadata": {},
   "outputs": [
    {
     "data": {
      "text/plain": [
       "' Obama and Vladimir_Vladimirovich_Putin met the former hebdomad'"
      ]
     },
     "execution_count": 63,
     "metadata": {},
     "output_type": "execute_result"
    }
   ],
   "source": [
    "parap(s2,2)"
   ]
  },
  {
   "cell_type": "code",
   "execution_count": 64,
   "metadata": {},
   "outputs": [
    {
     "data": {
      "text/plain": [
       "' Obama and Putin met the premature week'"
      ]
     },
     "execution_count": 64,
     "metadata": {},
     "output_type": "execute_result"
    }
   ],
   "source": [
    "parap(s2,3)"
   ]
  },
  {
   "cell_type": "code",
   "execution_count": 65,
   "metadata": {},
   "outputs": [
    {
     "data": {
      "text/plain": [
       "' At to_the_lowest_degree 12 hoi_polloi were killed in the struggle lastly calendar_week'"
      ]
     },
     "execution_count": 65,
     "metadata": {},
     "output_type": "execute_result"
    }
   ],
   "source": [
    "parap(s3,1)"
   ]
  },
  {
   "cell_type": "code",
   "execution_count": 66,
   "metadata": {},
   "outputs": [
    {
     "data": {
      "text/plain": [
       "' At least 12 multitude were killed in the battle final_stage hebdomad'"
      ]
     },
     "execution_count": 66,
     "metadata": {},
     "output_type": "execute_result"
    }
   ],
   "source": [
    "parap(s3,2)"
   ]
  },
  {
   "cell_type": "code",
   "execution_count": 68,
   "metadata": {},
   "outputs": [
    {
     "data": {
      "text/plain": [
       "\" At least 12 masses were killed in the fight shoemaker's_last week\""
      ]
     },
     "execution_count": 68,
     "metadata": {},
     "output_type": "execute_result"
    }
   ],
   "source": [
    "parap(s3,3)"
   ]
  },
  {
   "cell_type": "code",
   "execution_count": 69,
   "metadata": {},
   "outputs": [
    {
     "data": {
      "text/plain": [
       "' I will rifle house and fare back tomorrow'"
      ]
     },
     "execution_count": 69,
     "metadata": {},
     "output_type": "execute_result"
    }
   ],
   "source": [
    "parap(s4,1)"
   ]
  },
  {
   "cell_type": "code",
   "execution_count": 70,
   "metadata": {},
   "outputs": [
    {
     "data": {
      "text/plain": [
       "' I will run nursing_home and total back tomorrow'"
      ]
     },
     "execution_count": 70,
     "metadata": {},
     "output_type": "execute_result"
    }
   ],
   "source": [
    "parap(s4,2)"
   ]
  },
  {
   "cell_type": "code",
   "execution_count": 71,
   "metadata": {},
   "outputs": [
    {
     "data": {
      "text/plain": [
       "' I will proceed base and occur back tomorrow'"
      ]
     },
     "execution_count": 71,
     "metadata": {},
     "output_type": "execute_result"
    }
   ],
   "source": [
    "parap(s4,3)"
   ]
  },
  {
   "cell_type": "code",
   "execution_count": 73,
   "metadata": {},
   "outputs": [
    {
     "name": "stdout",
     "output_type": "stream",
     "text": [
      " The fast Brown_University slyboots jumps over the faineant detent\n",
      " The speedy brownness Charles_James_Fox jumps over the otiose bounder\n",
      " The prompt Brown George_Fox jumps over the lazy dog\n"
     ]
    }
   ],
   "source": [
    "for i in range(3):\n",
    "    print(parap(s1,i))"
   ]
  },
  {
   "cell_type": "code",
   "execution_count": 74,
   "metadata": {},
   "outputs": [
    {
     "name": "stdout",
     "output_type": "stream",
     "text": [
      " Obama and Putin met the previous workweek\n",
      " Obama and Vladimir_Putin met the late calendar_week\n",
      " Obama and Vladimir_Vladimirovich_Putin met the former hebdomad\n"
     ]
    }
   ],
   "source": [
    "for i in range(3):\n",
    "    print(parap(s2,i))"
   ]
  },
  {
   "cell_type": "code",
   "execution_count": 75,
   "metadata": {},
   "outputs": [
    {
     "name": "stdout",
     "output_type": "stream",
     "text": [
      " At least 12 citizenry were killed in the engagement death workweek\n",
      " At to_the_lowest_degree 12 hoi_polloi were killed in the struggle lastly calendar_week\n",
      " At least 12 multitude were killed in the battle final_stage hebdomad\n"
     ]
    }
   ],
   "source": [
    "for i in range(3):\n",
    "    print(parap(s3,i))"
   ]
  },
  {
   "cell_type": "code",
   "execution_count": 76,
   "metadata": {},
   "outputs": [
    {
     "name": "stdout",
     "output_type": "stream",
     "text": [
      " I will belong plate and come back tomorrow\n",
      " I will rifle house and fare back tomorrow\n",
      " I will run nursing_home and total back tomorrow\n"
     ]
    }
   ],
   "source": [
    "for i in range(3):\n",
    "    print(parap(s4,i))"
   ]
  },
  {
   "cell_type": "code",
   "execution_count": null,
   "metadata": {},
   "outputs": [],
   "source": []
  }
 ],
 "metadata": {
  "kernelspec": {
   "display_name": "Python 3",
   "language": "python",
   "name": "python3"
  },
  "language_info": {
   "codemirror_mode": {
    "name": "ipython",
    "version": 3
   },
   "file_extension": ".py",
   "mimetype": "text/x-python",
   "name": "python",
   "nbconvert_exporter": "python",
   "pygments_lexer": "ipython3",
   "version": "3.7.7"
  }
 },
 "nbformat": 4,
 "nbformat_minor": 4
}
