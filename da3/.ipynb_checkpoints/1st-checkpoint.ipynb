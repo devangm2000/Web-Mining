{
 "cells": [
  {
   "cell_type": "code",
   "execution_count": null,
   "metadata": {},
   "outputs": [],
   "source": [
    "import networkx as nx\n",
    "import numpy as np\n",
    "import matplotlib.pyplot as plt \n",
    " \n",
    "d = nx.Graph()\n",
    "edges = nx.read_edgelist('Wiki-Vote.txt')\n",
    "d.add_edges_from(edges.edges())\n",
    "nx.draw(d, with_labels=True, font_weight='bold')\n",
    "plt.savefig(\"filename.png\")"
   ]
  },
  {
   "cell_type": "code",
   "execution_count": null,
   "metadata": {},
   "outputs": [],
   "source": [
    "import networkx as nx\n",
    "import numpy as np\n",
    "n_nodes=7114\n",
    "degree_prestige = dict((v,len(d.edges(v))/(n_nodes-1)) for v in d.nodes())\n",
    "print(\"DEGREE PRESTIGE :\\n\")\n",
    "\n",
    "for i in degree_prestige:\n",
    "    print(i, \" : \", degree_prestige[i])"
   ]
  },
  {
   "cell_type": "code",
   "execution_count": null,
   "metadata": {},
   "outputs": [],
   "source": [
    "x=list(d.nodes)\n",
    "distance=[]\n",
    "\n",
    "for i in range(0,500) :\n",
    "    temp_dis = 0\n",
    "    n = 0\n",
    "    for j in range(0,500):\n",
    "        if(nx.has_path(d,x[i],x[j]) == True):\n",
    "            temp_dis = temp_dis + nx.shortest_path_length(d,source = x[j],target = x[i])\n",
    "            n = n + 1\n",
    "    if temp_dis == 0:\n",
    "        distance.append([x[i], 0])\n",
    "    else:\n",
    "        distance.append([x[i], temp_dis/(n - 1)])\n",
    "\n",
    "print(\"\\nPROXIMITY PRESTIGE :\\n\")\n",
    "for i in distance:\n",
    "    print(str(i[0]) + \" : \" + str(i[1]))"
   ]
  },
  {
   "cell_type": "code",
   "execution_count": null,
   "metadata": {},
   "outputs": [],
   "source": [
    "prominance = np.random.randint(1, 4, size=n_nodes)\n",
    "rank_prestige = np.zeros([n_nodes], dtype = int)\n",
    "path_matrix = np.zeros([n_nodes, n_nodes], dtype = int)\n",
    "i = 0\n",
    "j = 0\n",
    "for src in d.nodes:\n",
    "    for dest in d.nodes:\n",
    "        if d.has_edge(dest, src):\n",
    "            path_matrix[i][j] = 1\n",
    "        j = j+1\n",
    "    j = 0\n",
    "    i = i+1\n",
    "for i in range(n_nodes):\n",
    "    pr_i = 0\n",
    "    for j in range(n_nodes):\n",
    "        pr_i = pr_i + path_matrix[i][j] * prominance[j]\n",
    "    rank_prestige[i] = pr_i\n",
    "\n",
    "print(\"\\nRANK PRESTIGE :\\n\")\n",
    "print(rank_prestige)"
   ]
  },
  {
   "cell_type": "code",
   "execution_count": null,
   "metadata": {},
   "outputs": [],
   "source": []
  }
 ],
 "metadata": {
  "kernelspec": {
   "display_name": "Python 3",
   "language": "python",
   "name": "python3"
  },
  "language_info": {
   "codemirror_mode": {
    "name": "ipython",
    "version": 3
   },
   "file_extension": ".py",
   "mimetype": "text/x-python",
   "name": "python",
   "nbconvert_exporter": "python",
   "pygments_lexer": "ipython3",
   "version": "3.7.6"
  }
 },
 "nbformat": 4,
 "nbformat_minor": 4
}
