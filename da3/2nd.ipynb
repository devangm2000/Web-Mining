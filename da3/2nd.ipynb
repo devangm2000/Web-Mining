{
 "cells": [
  {
   "cell_type": "code",
   "execution_count": 1,
   "metadata": {},
   "outputs": [],
   "source": [
    "def hits(A,H,L,Lt):\n",
    "    hits.count=getattr(hits,\"count\",1)\n",
    "    Ak=np.dot(np.dot(Lt,L),A)\n",
    "    Hk=np.dot(np.dot(L,Lt),H)\n",
    "    As=[]\n",
    "    for i in Ak:\n",
    "        As.append(i**2)\n",
    "    Ak=Ak/float(math.sqrt(sum(As)))\n",
    "    Hs=[]\n",
    "    for i in Hk:\n",
    "        Hs.append(i**2)\n",
    "    Hk=Hk/float(math.sqrt(sum(Hs)))\n",
    "    print(\"Authority Score in Iteration\",hits.count,\":\\n\",Ak,\"\\n\")\n",
    "    print(\"Hub Score in Iteration \",hits.count,\":\\n\",Hk,\"\\n\")\n",
    "    temp=0\n",
    "    for i in range(len(Ak)):\n",
    "        if(abs(Ak[i]-A[i])<0.05 and abs(Hk[i]-H[i])<0.05):\n",
    "            temp=temp+1\n",
    "    if(temp<len(Ak)):\n",
    "        hits.count+=1\n",
    "        hits(Ak,Hk,L,Lt)\n",
    "    else:\n",
    "        print(\"Total number of Iterations are: \",hits.count)\n",
    "        print(\"\\nAuthority and Hub score in last iteration arethe final scores\")"
   ]
  },
  {
   "cell_type": "code",
   "execution_count": 2,
   "metadata": {},
   "outputs": [
    {
     "name": "stdout",
     "output_type": "stream",
     "text": [
      "Adjency Matrix L: \n",
      "\n",
      " [[0 1 1 1 0 0 0]\n",
      " [0 0 0 1 1 0 0]\n",
      " [0 0 0 0 0 1 0]\n",
      " [0 0 1 0 0 1 1]\n",
      " [0 0 0 1 0 0 1]\n",
      " [0 0 0 0 0 0 0]\n",
      " [0 0 0 0 0 1 0]] \n",
      "\n",
      "\n",
      "Authority Score in Iteration 1 :\n",
      " [0.         0.24659848 0.49319696 0.57539646 0.16439899 0.41099747\n",
      " 0.41099747] \n",
      "\n",
      "Hub Score in Iteration  1 :\n",
      " [0.5        0.33333333 0.25       0.58333333 0.41666667 0.\n",
      " 0.25      ] \n",
      "\n",
      "Authority Score in Iteration 2 :\n",
      " [0.         0.2471798  0.49435959 0.57160328 0.13903864 0.40166717\n",
      " 0.43256464] \n",
      "\n",
      "Hub Score in Iteration  2 :\n",
      " [0.53571547 0.29937041 0.20483238 0.59874082 0.42542111 0.\n",
      " 0.20483238] \n",
      "\n",
      "Total number of Iterations are:  2\n",
      "\n",
      "Authority and Hub score in last iteration arethe final scores\n"
     ]
    }
   ],
   "source": [
    "import numpy as np\n",
    "import math\n",
    "L=np.array([[0,1,1,1,0,0,0],[0,0,0,1,1,0,0],[0,0,0,0,0,1,0],[0,0,1,0,0,1,1],[0,0,0,1,0,0,1],[0,0,0,0,0,0,0],[0,0,0,0,0,1,0]])\n",
    "print(\"Adjency Matrix L: \\n\\n\",L,\"\\n\\n\")\n",
    "Lt=L.transpose()\n",
    "Ain=np.ones(7)\n",
    "Hin=np.ones(7)\n",
    "hits(Ain,Hin,L,Lt)"
   ]
  },
  {
   "cell_type": "code",
   "execution_count": null,
   "metadata": {},
   "outputs": [],
   "source": []
  }
 ],
 "metadata": {
  "kernelspec": {
   "display_name": "Python 3",
   "language": "python",
   "name": "python3"
  },
  "language_info": {
   "codemirror_mode": {
    "name": "ipython",
    "version": 3
   },
   "file_extension": ".py",
   "mimetype": "text/x-python",
   "name": "python",
   "nbconvert_exporter": "python",
   "pygments_lexer": "ipython3",
   "version": "3.7.6"
  }
 },
 "nbformat": 4,
 "nbformat_minor": 4
}
