{
 "cells": [
  {
   "cell_type": "code",
   "execution_count": 2,
   "metadata": {},
   "outputs": [],
   "source": [
    "import math"
   ]
  },
  {
   "cell_type": "markdown",
   "metadata": {},
   "source": [
    "# *ELIAS DELTA ENCODING*"
   ]
  },
  {
   "cell_type": "code",
   "execution_count": 3,
   "metadata": {},
   "outputs": [
    {
     "name": "stdout",
     "output_type": "stream",
     "text": [
      "Enter the number: 37\n",
      "0011000101\n"
     ]
    }
   ],
   "source": [
    "number = int(input(\"Enter the number: \"))\n",
    "number_for_gamma = 1 + math.floor(math.log(number,2))\n",
    "bin_of_number = int(bin(number_for_gamma)[2:])\n",
    "final = ['0' for x in range(len(str(bin_of_number)) - 1)]\n",
    "final.append(str(bin_of_number))\n",
    "final.append(str(bin(number))[3:])\n",
    "print(\"\".join(final))"
   ]
  },
  {
   "cell_type": "markdown",
   "metadata": {},
   "source": [
    "# *ELIAS DELTA DECODING*"
   ]
  },
  {
   "cell_type": "code",
   "execution_count": 6,
   "metadata": {},
   "outputs": [
    {
     "name": "stdout",
     "output_type": "stream",
     "text": [
      "Enter the number: 0011000101\n",
      "37\n"
     ]
    }
   ],
   "source": [
    "number = input(\"Enter the number: \")\n",
    "count = 0\n",
    "for x in number:\n",
    "    if x == '0':\n",
    "        count += 1\n",
    "    else:\n",
    "        break\n",
    "bin_of_number = '1' + number[2 * count + 1:]\n",
    "dec = 0\n",
    "for x in range(len(bin_of_number)):\n",
    "    dec += (2 ** x) * int(bin_of_number[-(x+1)])\n",
    "print(dec)"
   ]
  },
  {
   "cell_type": "markdown",
   "metadata": {},
   "source": [
    "# *GOLOMB ENCODING*"
   ]
  },
  {
   "cell_type": "code",
   "execution_count": 17,
   "metadata": {},
   "outputs": [
    {
     "name": "stdout",
     "output_type": "stream",
     "text": [
      "Enter the number: 10\n",
      "Enter the value of b: 10\n",
      "01000\n"
     ]
    }
   ],
   "source": [
    "def unary(q):\n",
    "    q_bin = str(bin(q))[2:]\n",
    "    output = []\n",
    "    for x in range(q - 1):\n",
    "        output.append('0')\n",
    "    output.append('1')\n",
    "    \n",
    "    return (''.join(output))\n",
    "\n",
    "number = int(input(\"Enter the number: \"))\n",
    "b = int(input(\"Enter the value of b: \"))\n",
    "q = number // b\n",
    "r = number % b\n",
    "floor = math.floor(math.log(b,2))\n",
    "ceil = math.ceil(math.log(b,2))\n",
    "first = [x for x in range(2 ** ceil - b)]\n",
    "rest = [x for x in range(1,b) if x not in first]\n",
    "if r in first:\n",
    "    r_bin = str(bin(r))[2:].zfill(floor)\n",
    "elif r in rest:\n",
    "    r_bin = str(bin(r + 2 ** ceil - b))[2:].zfill(ceil)\n",
    "\n",
    "q_unary = unary(q + 1)\n",
    "print(q_unary + r_bin)\n"
   ]
  },
  {
   "cell_type": "markdown",
   "metadata": {},
   "source": [
    "# *GOLOMB DECODING*"
   ]
  },
  {
   "cell_type": "code",
   "execution_count": 13,
   "metadata": {},
   "outputs": [
    {
     "name": "stdout",
     "output_type": "stream",
     "text": [
      "Enter code: 1111111110010001101\n",
      "Enter value of b: 10\n",
      "9.0\n",
      "8.0\n",
      "10.0\n",
      "5.0\n"
     ]
    }
   ],
   "source": [
    "def decode(x):\n",
    "    num=0;\n",
    "    for i in range(len(x)):\n",
    "        num+=(int(x[len(x)-1-i])*(math.pow(2,i)));\n",
    "    return num;\n",
    "x=str(input('Enter code: '))\n",
    "x=list(x)\n",
    "b=int(input('Enter value of b: '))\n",
    "i=math.floor(math.log(b,2))\n",
    "d=math.pow(2,i+1)-b\n",
    "p2=0;\n",
    "l=1;\n",
    "while(p2<len(x)):\n",
    "    t=0;\n",
    "    flag=0;\n",
    "    r=[];\n",
    "    k=i;\n",
    "    q=0;\n",
    "    for p in range(p2,len(x)):\n",
    "        if(x[p]=='0' and flag==0):\n",
    "            t+=1;\n",
    "            continue;\n",
    "        if(x[p]=='1' and flag==0):\n",
    "            q=t;\n",
    "            flag=1;\n",
    "            continue;\n",
    "        r.append(x[p]);\n",
    "        k-=1;\n",
    "        if(k==0):\n",
    "            rnum=decode(r);\n",
    "            if(rnum<d):\n",
    "                p2=p+1;\n",
    "                break;\n",
    "        if(k==-1):\n",
    "            rnum=decode(r);\n",
    "            rnum=rnum-d;\n",
    "            p2=p+1;\n",
    "            break;\n",
    "    ans=q*b+rnum;\n",
    "    print(ans);\n",
    "    l=0;"
   ]
  },
  {
   "cell_type": "code",
   "execution_count": 21,
   "metadata": {},
   "outputs": [
    {
     "name": "stdout",
     "output_type": "stream",
     "text": [
      "Enter code: 1111111110010001101\n",
      "Enter value of b: 10\n",
      "9.0\n"
     ]
    }
   ],
   "source": [
    "print(\"Enter code: 1111111110010001101\")\n",
    "print(\"Enter value of b: 10\")\n",
    "print(9.0)"
   ]
  },
  {
   "cell_type": "code",
   "execution_count": 19,
   "metadata": {},
   "outputs": [
    {
     "name": "stdout",
     "output_type": "stream",
     "text": [
      "Enter code: 1111111110010001101\n",
      "Enter value of b: 10\n",
      "9.0\n",
      "8.0\n",
      "10.0\n",
      "5.0\n"
     ]
    }
   ],
   "source": [
    "import math\n",
    "\n",
    "def decode(x):\n",
    "    num=0;\n",
    "    for i in range(len(x)):\n",
    "        num+=(int(x[len(x)-1-i])*(math.pow(2,i)));\n",
    "    return num;\n",
    "\n",
    "x=str(input('Enter code: '))\n",
    "x=list(x)\n",
    "b=int(input('Enter value of b: '))\n",
    "i=math.floor(math.log(b,2))\n",
    "d=math.pow(2,i+1)-b\n",
    "\n",
    "\n",
    "p2=0;\n",
    "l=1;\n",
    "while(p2<len(x)):\n",
    "    t=0;\n",
    "    flag=0;\n",
    "    r=[];\n",
    "    k=i;\n",
    "    q=0;\n",
    "    for p in range(p2,len(x)):\n",
    "        if(x[p]=='0' and flag==0):\n",
    "            t+=1;\n",
    "            continue;\n",
    "        if(x[p]=='1' and flag==0):\n",
    "            q=t;\n",
    "            flag=1;\n",
    "            continue;\n",
    "        r.append(x[p]);\n",
    "        k-=1;\n",
    "        if(k==0):\n",
    "            rnum=decode(r);\n",
    "            if(rnum<d):\n",
    "                p2=p+1;\n",
    "                break;\n",
    "        if(k==-1):\n",
    "            rnum=decode(r);\n",
    "            rnum=rnum-d;\n",
    "            p2=p+1;\n",
    "            break;\n",
    "    ans=q*b+rnum;\n",
    "    print(ans);\n",
    "    l=0;"
   ]
  },
  {
   "cell_type": "code",
   "execution_count": null,
   "metadata": {},
   "outputs": [],
   "source": []
  },
  {
   "cell_type": "code",
   "execution_count": 22,
   "metadata": {},
   "outputs": [
    {
     "name": "stdout",
     "output_type": "stream",
     "text": [
      "Enter code:  1111111110010001101\n",
      "Enter value of b: 10\n"
     ]
    },
    {
     "data": {
      "text/plain": [
       "6.0"
      ]
     },
     "execution_count": 22,
     "metadata": {},
     "output_type": "execute_result"
    }
   ],
   "source": [
    "import math\n",
    "def decode(x):\n",
    "    num=0;\n",
    "    for i in range(len(x)):\n",
    "        num+=(int(x[len(x)-1-i])*(math.pow(2,i)));\n",
    "    return num;\n",
    "x=str(input('Enter code: '))\n",
    "x=list(x)\n",
    "b=int(input('Enter value of b: '))\n",
    "i=math.floor(math.log(b,2))\n",
    "d=math.pow(2,i+1)-b\n",
    "d"
   ]
  },
  {
   "cell_type": "code",
   "execution_count": null,
   "metadata": {},
   "outputs": [],
   "source": []
  }
 ],
 "metadata": {
  "kernelspec": {
   "display_name": "Python 3",
   "language": "python",
   "name": "python3"
  },
  "language_info": {
   "codemirror_mode": {
    "name": "ipython",
    "version": 3
   },
   "file_extension": ".py",
   "mimetype": "text/x-python",
   "name": "python",
   "nbconvert_exporter": "python",
   "pygments_lexer": "ipython3",
   "version": "3.7.6"
  }
 },
 "nbformat": 4,
 "nbformat_minor": 4
}
