{
 "cells": [
  {
   "cell_type": "code",
   "execution_count": 1,
   "metadata": {},
   "outputs": [],
   "source": [
    "#Devang Mehrotra\n",
    "#18BCE0763"
   ]
  },
  {
   "cell_type": "code",
   "execution_count": 16,
   "metadata": {},
   "outputs": [
    {
     "name": "stdout",
     "output_type": "stream",
     "text": [
      "in\n",
      "the\n",
      "standard\n",
      "does\n",
      "an\n",
      "of\n",
      "from\n",
      "a\n",
      "to\n",
      "all\n",
      "Standard\n",
      "for\n",
      "is\n",
      "and\n",
      "Python\n",
      "available\n",
      "not\n",
      "or\n"
     ]
    }
   ],
   "source": [
    "f1 = open(\"doc1.txt\").readlines()\n",
    "f2 = open(\"doc2.txt\").readlines()\n",
    "common_terms=[]\n",
    "if len(f1) != 0 | len(f2) != 0:\n",
    " uniq1 = set(words for line in f1 for words in line.strip().split())\n",
    " uniq2 = set(wordss for lines in f2 for wordss in lines.strip().split())\n",
    " for words in uniq1:\n",
    "     for wordds in uniq2:\n",
    "         if words == wordds:\n",
    "             print(words)\n",
    "             common_terms.append(words)"
   ]
  },
  {
   "cell_type": "code",
   "execution_count": 17,
   "metadata": {},
   "outputs": [
    {
     "data": {
      "text/plain": [
       "['in',\n",
       " 'the',\n",
       " 'standard',\n",
       " 'does',\n",
       " 'an',\n",
       " 'of',\n",
       " 'from',\n",
       " 'a',\n",
       " 'to',\n",
       " 'all',\n",
       " 'Standard',\n",
       " 'for',\n",
       " 'is',\n",
       " 'and',\n",
       " 'Python',\n",
       " 'available',\n",
       " 'not',\n",
       " 'or']"
      ]
     },
     "execution_count": 17,
     "metadata": {},
     "output_type": "execute_result"
    }
   ],
   "source": [
    "common_terms"
   ]
  },
  {
   "cell_type": "code",
   "execution_count": 19,
   "metadata": {},
   "outputs": [
    {
     "name": "stdout",
     "output_type": "stream",
     "text": [
      "in the standard does an of from a to all Standard for is and Python available not or\n"
     ]
    }
   ],
   "source": [
    "commonterms = ' '.join([str(elem) for elem in common_terms])\n",
    "print(commonterms)"
   ]
  },
  {
   "cell_type": "code",
   "execution_count": 11,
   "metadata": {},
   "outputs": [],
   "source": [
    "from nltk.corpus import stopwords \n",
    "from nltk.tokenize import word_tokenize"
   ]
  },
  {
   "cell_type": "code",
   "execution_count": 12,
   "metadata": {},
   "outputs": [],
   "source": [
    "stop_words = set(stopwords.words('english'))"
   ]
  },
  {
   "cell_type": "code",
   "execution_count": 23,
   "metadata": {},
   "outputs": [
    {
     "name": "stdout",
     "output_type": "stream",
     "text": [
      "['standard', 'Standard', 'Python', 'available']\n",
      "length= 4\n"
     ]
    }
   ],
   "source": [
    "word_tokens = word_tokenize(commonterms) \n",
    "  \n",
    "filtered_sentence = [w for w in word_tokens if not w in stop_words] \n",
    "  \n",
    "filtered_sentence = [] \n",
    "  \n",
    "for w in word_tokens: \n",
    "    if w not in stop_words: \n",
    "        filtered_sentence.append(w) \n",
    "   \n",
    "print(filtered_sentence)\n",
    "print(\"length=\",len(filtered_sentence))"
   ]
  },
  {
   "cell_type": "code",
   "execution_count": 25,
   "metadata": {},
   "outputs": [],
   "source": [
    "with open(\"index.txt\", \"w\") as txt_file:\n",
    "    for line in filtered_sentence:\n",
    "        txt_file.write(\" \".join(line) + \"\\n\")"
   ]
  },
  {
   "cell_type": "code",
   "execution_count": 29,
   "metadata": {},
   "outputs": [
    {
     "name": "stderr",
     "output_type": "stream",
     "text": [
      "[nltk_data] Downloading package wordnet to C:\\Users\\Devang\n",
      "[nltk_data]     Mehrotra\\AppData\\Roaming\\nltk_data...\n",
      "[nltk_data]   Unzipping corpora\\wordnet.zip.\n"
     ]
    },
    {
     "name": "stdout",
     "output_type": "stream",
     "text": [
      "standard  -  standard\n",
      "standard  -  Standard\n",
      "python  -  Python\n",
      "avail  -  available\n"
     ]
    }
   ],
   "source": [
    "#Stemming and lemmatization on the terms present in index.txt file\n",
    "import nltk\n",
    "nltk.download('wordnet')\n",
    "from nltk.stem import PorterStemmer\n",
    "from nltk.stem import WordNetLemmatizer \n",
    "ps = PorterStemmer()\n",
    "lemmatizer = WordNetLemmatizer()\n",
    "for w in filtered_sentence:\n",
    "    print(w,\"-\",ps.stem(w), \" - \", lemmatizer.lemmatize(w))"
   ]
  },
  {
   "cell_type": "code",
   "execution_count": null,
   "metadata": {},
   "outputs": [],
   "source": []
  }
 ],
 "metadata": {
  "kernelspec": {
   "display_name": "Python 3",
   "language": "python",
   "name": "python3"
  },
  "language_info": {
   "codemirror_mode": {
    "name": "ipython",
    "version": 3
   },
   "file_extension": ".py",
   "mimetype": "text/x-python",
   "name": "python",
   "nbconvert_exporter": "python",
   "pygments_lexer": "ipython3",
   "version": "3.7.6"
  }
 },
 "nbformat": 4,
 "nbformat_minor": 4
}
