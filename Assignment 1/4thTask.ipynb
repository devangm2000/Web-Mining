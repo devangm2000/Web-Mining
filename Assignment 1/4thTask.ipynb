{
 "cells": [
  {
   "cell_type": "code",
   "execution_count": 11,
   "metadata": {},
   "outputs": [],
   "source": [
    "from nltk.tokenize import word_tokenize\n",
    "from nltk.tag import pos_tag\n",
    "from nltk.corpus import wordnet as wn\n",
    "import pandas as pd\n",
    "def tag(sentence):\n",
    " words = word_tokenize(sentence)\n",
    " words = pos_tag(words)\n",
    " return words\n",
    "\n",
    "def paraphraseable(tag):\n",
    " return tag.startswith('NN') or tag == 'VB' or tag.startswith('JJ')\n",
    "\n",
    "def pos(tag):\n",
    " if tag.startswith('NN'):\n",
    "  return wn.NOUN\n",
    " elif tag.startswith('V'):\n",
    "  return wn.VERB\n",
    "\n",
    "def synonyms(word, tag):\n",
    "    lemma_lists = [ss.lemmas() for ss in wn.synsets(word, pos(tag))]\n",
    "    lemmas = [lemma.name() for lemma in sum(lemma_lists, [])]\n",
    "    return set(lemmas)\n",
    "\n",
    "def synonymIfExists(sentence):\n",
    " for (word, t) in tag(sentence):\n",
    "   if paraphraseable(t):\n",
    "    syns = synonyms(word, t)\n",
    "    if syns:\n",
    "     if len(syns) > 1:\n",
    "      yield [word, list(syns)]\n",
    "      continue\n",
    "   yield [word, []]\n",
    "\n",
    "def paraphrase(sentence):\n",
    " return [x for x in synonymIfExists(sentence)]\n"
   ]
  },
  {
   "cell_type": "code",
   "execution_count": 31,
   "metadata": {},
   "outputs": [],
   "source": [
    "s1 = paraphrase(\"The quick brown fox jumps over the lazy dog\")\n",
    "s2 = paraphrase(\"Obama and Putin met the previous week\")\n",
    "s3 = paraphrase(\"At least 12 people were killed in the battle last week\")\n",
    "s4 = paraphrase(\"I will go home and come back tomorrow\")"
   ]
  },
  {
   "cell_type": "code",
   "execution_count": 32,
   "metadata": {},
   "outputs": [
    {
     "data": {
      "text/plain": [
       "([['The', []],\n",
       "  ['quick',\n",
       "   ['fast',\n",
       "    'speedy',\n",
       "    'prompt',\n",
       "    'spry',\n",
       "    'agile',\n",
       "    'immediate',\n",
       "    'quickly',\n",
       "    'nimble',\n",
       "    'promptly',\n",
       "    'quick',\n",
       "    'straightaway',\n",
       "    'flying',\n",
       "    'warm',\n",
       "    'ready']],\n",
       "  ['brown',\n",
       "   ['Brown_University',\n",
       "    'brownness',\n",
       "    'Brown',\n",
       "    'Robert_Brown',\n",
       "    'brown',\n",
       "    'John_Brown']],\n",
       "  ['fox',\n",
       "   ['slyboots', 'Charles_James_Fox', 'George_Fox', 'fox', 'Fox', 'dodger']],\n",
       "  ['jumps', []],\n",
       "  ['over', []],\n",
       "  ['the', []],\n",
       "  ['lazy', ['faineant', 'otiose', 'lazy', 'indolent', 'work-shy', 'slothful']],\n",
       "  ['dog',\n",
       "   ['detent',\n",
       "    'bounder',\n",
       "    'dog',\n",
       "    'frank',\n",
       "    'wiener',\n",
       "    'frump',\n",
       "    'click',\n",
       "    'cad',\n",
       "    'hotdog',\n",
       "    'weenie',\n",
       "    'hound',\n",
       "    'andiron',\n",
       "    'pawl',\n",
       "    'frankfurter',\n",
       "    'Canis_familiaris',\n",
       "    'blackguard',\n",
       "    'firedog',\n",
       "    'dog-iron',\n",
       "    'heel',\n",
       "    'hot_dog',\n",
       "    'domestic_dog',\n",
       "    'wienerwurst']]],\n",
       " [['Obama', []],\n",
       "  ['and', []],\n",
       "  ['Putin', ['Putin', 'Vladimir_Putin', 'Vladimir_Vladimirovich_Putin']],\n",
       "  ['met', []],\n",
       "  ['the', []],\n",
       "  ['previous', ['previous', 'late', 'former', 'premature', 'old']],\n",
       "  ['week', ['workweek', 'calendar_week', 'hebdomad', 'week']]],\n",
       " [['At', []],\n",
       "  ['least', ['least', 'to_the_lowest_degree']],\n",
       "  ['12', []],\n",
       "  ['people',\n",
       "   ['citizenry',\n",
       "    'hoi_polloi',\n",
       "    'multitude',\n",
       "    'masses',\n",
       "    'people',\n",
       "    'mass',\n",
       "    'the_great_unwashed']],\n",
       "  ['were', []],\n",
       "  ['killed', []],\n",
       "  ['in', []],\n",
       "  ['the', []],\n",
       "  ['battle', ['engagement', 'struggle', 'battle', 'fight', 'conflict']],\n",
       "  ['last',\n",
       "   ['death',\n",
       "    'lastly',\n",
       "    'final_stage',\n",
       "    \"shoemaker's_last\",\n",
       "    'survive',\n",
       "    'endure',\n",
       "    'last-place',\n",
       "    'finally',\n",
       "    'stopping_point',\n",
       "    'go',\n",
       "    \"cobbler's_last\",\n",
       "    'hold_out',\n",
       "    'utmost',\n",
       "    'last',\n",
       "    'concluding',\n",
       "    'hold_up',\n",
       "    'end',\n",
       "    'finis',\n",
       "    'conclusion',\n",
       "    'lowest',\n",
       "    'finale',\n",
       "    'net',\n",
       "    'close',\n",
       "    'terminal',\n",
       "    'in_conclusion',\n",
       "    'finish',\n",
       "    'live_on',\n",
       "    'final',\n",
       "    'live']],\n",
       "  ['week', ['workweek', 'calendar_week', 'hebdomad', 'week']]],\n",
       " [['I', []],\n",
       "  ['will', []],\n",
       "  ['go',\n",
       "   ['belong',\n",
       "    'rifle',\n",
       "    'run',\n",
       "    'proceed',\n",
       "    'survive',\n",
       "    'endure',\n",
       "    'blend_in',\n",
       "    'break',\n",
       "    'locomote',\n",
       "    \"cash_in_one's_chips\",\n",
       "    'function',\n",
       "    'croak',\n",
       "    'drop_dead',\n",
       "    'pass',\n",
       "    'conk',\n",
       "    'run_short',\n",
       "    'exit',\n",
       "    'work',\n",
       "    'kick_the_bucket',\n",
       "    'get_going',\n",
       "    'conk_out',\n",
       "    'go',\n",
       "    'run_low',\n",
       "    'choke',\n",
       "    'lead',\n",
       "    'give_out',\n",
       "    'get',\n",
       "    'hold_out',\n",
       "    'fail',\n",
       "    'last',\n",
       "    'decease',\n",
       "    'expire',\n",
       "    'hold_up',\n",
       "    'extend',\n",
       "    'sound',\n",
       "    'depart',\n",
       "    'blend',\n",
       "    'perish',\n",
       "    'move',\n",
       "    'fit',\n",
       "    'go_bad',\n",
       "    'give-up_the_ghost',\n",
       "    'start',\n",
       "    'snuff_it',\n",
       "    'become',\n",
       "    'break_down',\n",
       "    'pass_away',\n",
       "    'travel',\n",
       "    'give_way',\n",
       "    'go_away',\n",
       "    'die',\n",
       "    'buy_the_farm',\n",
       "    'pop_off',\n",
       "    'plump',\n",
       "    'live_on',\n",
       "    'operate',\n",
       "    'live']],\n",
       "  ['home',\n",
       "   ['plate',\n",
       "    'house',\n",
       "    'nursing_home',\n",
       "    'base',\n",
       "    'place',\n",
       "    'dwelling',\n",
       "    'family',\n",
       "    'household',\n",
       "    'domicile',\n",
       "    'home_base',\n",
       "    'menage',\n",
       "    'home_plate',\n",
       "    'dwelling_house',\n",
       "    'habitation',\n",
       "    'rest_home',\n",
       "    'abode',\n",
       "    'home']],\n",
       "  ['and', []],\n",
       "  ['come',\n",
       "   ['come',\n",
       "    'fare',\n",
       "    'total',\n",
       "    'occur',\n",
       "    'issue_forth',\n",
       "    'get_along',\n",
       "    'follow',\n",
       "    'make_out',\n",
       "    'number',\n",
       "    'get',\n",
       "    'amount',\n",
       "    'arrive',\n",
       "    'fall',\n",
       "    'come_in',\n",
       "    'come_up',\n",
       "    'do',\n",
       "    'derive',\n",
       "    'add_up',\n",
       "    'descend',\n",
       "    'hail']],\n",
       "  ['back', []],\n",
       "  ['tomorrow', []]])"
      ]
     },
     "execution_count": 32,
     "metadata": {},
     "output_type": "execute_result"
    }
   ],
   "source": [
    "s1,s2,s3,s4"
   ]
  },
  {
   "cell_type": "code",
   "execution_count": 58,
   "metadata": {},
   "outputs": [],
   "source": [
    "def parap(arr,j):\n",
    "    s1 = \"\"\n",
    "    \n",
    "    for i in range(len(arr)):\n",
    "        if(arr[i][1]==[]):\n",
    "            wrd=arr[i][0]\n",
    "        elif(len(arr[i][1])<=j):\n",
    "            wrd=arr[i][0]\n",
    "        else:\n",
    "            wrd=arr[i][1][j]\n",
    "        \n",
    "        s1=s1+\" \"+wrd\n",
    "    return s1\n",
    "        "
   ]
  },
  {
   "cell_type": "code",
   "execution_count": 59,
   "metadata": {},
   "outputs": [
    {
     "data": {
      "text/plain": [
       "' The speedy brownness Charles_James_Fox jumps over the otiose bounder'"
      ]
     },
     "execution_count": 59,
     "metadata": {},
     "output_type": "execute_result"
    }
   ],
   "source": [
    "parap(s1,1)"
   ]
  },
  {
   "cell_type": "code",
   "execution_count": 60,
   "metadata": {},
   "outputs": [
    {
     "data": {
      "text/plain": [
       "' The prompt Brown George_Fox jumps over the lazy dog'"
      ]
     },
     "execution_count": 60,
     "metadata": {},
     "output_type": "execute_result"
    }
   ],
   "source": [
    "parap(s1,2)"
   ]
  },
  {
   "cell_type": "code",
   "execution_count": 61,
   "metadata": {},
   "outputs": [
    {
     "data": {
      "text/plain": [
       "' The spry Robert_Brown fox jumps over the indolent frank'"
      ]
     },
     "execution_count": 61,
     "metadata": {},
     "output_type": "execute_result"
    }
   ],
   "source": [
    "parap(s1,3)"
   ]
  },
  {
   "cell_type": "code",
   "execution_count": 62,
   "metadata": {},
   "outputs": [
    {
     "data": {
      "text/plain": [
       "' Obama and Vladimir_Putin met the late calendar_week'"
      ]
     },
     "execution_count": 62,
     "metadata": {},
     "output_type": "execute_result"
    }
   ],
   "source": [
    "parap(s2,1)"
   ]
  },
  {
   "cell_type": "code",
   "execution_count": 63,
   "metadata": {},
   "outputs": [
    {
     "data": {
      "text/plain": [
       "' Obama and Vladimir_Vladimirovich_Putin met the former hebdomad'"
      ]
     },
     "execution_count": 63,
     "metadata": {},
     "output_type": "execute_result"
    }
   ],
   "source": [
    "parap(s2,2)"
   ]
  },
  {
   "cell_type": "code",
   "execution_count": 64,
   "metadata": {},
   "outputs": [
    {
     "data": {
      "text/plain": [
       "' Obama and Putin met the premature week'"
      ]
     },
     "execution_count": 64,
     "metadata": {},
     "output_type": "execute_result"
    }
   ],
   "source": [
    "parap(s2,3)"
   ]
  },
  {
   "cell_type": "code",
   "execution_count": 65,
   "metadata": {},
   "outputs": [
    {
     "data": {
      "text/plain": [
       "' At to_the_lowest_degree 12 hoi_polloi were killed in the struggle lastly calendar_week'"
      ]
     },
     "execution_count": 65,
     "metadata": {},
     "output_type": "execute_result"
    }
   ],
   "source": [
    "parap(s3,1)"
   ]
  },
  {
   "cell_type": "code",
   "execution_count": 66,
   "metadata": {},
   "outputs": [
    {
     "data": {
      "text/plain": [
       "' At least 12 multitude were killed in the battle final_stage hebdomad'"
      ]
     },
     "execution_count": 66,
     "metadata": {},
     "output_type": "execute_result"
    }
   ],
   "source": [
    "parap(s3,2)"
   ]
  },
  {
   "cell_type": "code",
   "execution_count": 68,
   "metadata": {},
   "outputs": [
    {
     "data": {
      "text/plain": [
       "\" At least 12 masses were killed in the fight shoemaker's_last week\""
      ]
     },
     "execution_count": 68,
     "metadata": {},
     "output_type": "execute_result"
    }
   ],
   "source": [
    "parap(s3,3)"
   ]
  },
  {
   "cell_type": "code",
   "execution_count": 69,
   "metadata": {},
   "outputs": [
    {
     "data": {
      "text/plain": [
       "' I will rifle house and fare back tomorrow'"
      ]
     },
     "execution_count": 69,
     "metadata": {},
     "output_type": "execute_result"
    }
   ],
   "source": [
    "parap(s4,1)"
   ]
  },
  {
   "cell_type": "code",
   "execution_count": 70,
   "metadata": {},
   "outputs": [
    {
     "data": {
      "text/plain": [
       "' I will run nursing_home and total back tomorrow'"
      ]
     },
     "execution_count": 70,
     "metadata": {},
     "output_type": "execute_result"
    }
   ],
   "source": [
    "parap(s4,2)"
   ]
  },
  {
   "cell_type": "code",
   "execution_count": 71,
   "metadata": {},
   "outputs": [
    {
     "data": {
      "text/plain": [
       "' I will proceed base and occur back tomorrow'"
      ]
     },
     "execution_count": 71,
     "metadata": {},
     "output_type": "execute_result"
    }
   ],
   "source": [
    "parap(s4,3)"
   ]
  },
  {
   "cell_type": "code",
   "execution_count": 73,
   "metadata": {},
   "outputs": [
    {
     "name": "stdout",
     "output_type": "stream",
     "text": [
      " The fast Brown_University slyboots jumps over the faineant detent\n",
      " The speedy brownness Charles_James_Fox jumps over the otiose bounder\n",
      " The prompt Brown George_Fox jumps over the lazy dog\n"
     ]
    }
   ],
   "source": [
    "for i in range(3):\n",
    "    print(parap(s1,i))"
   ]
  },
  {
   "cell_type": "code",
   "execution_count": 74,
   "metadata": {},
   "outputs": [
    {
     "name": "stdout",
     "output_type": "stream",
     "text": [
      " Obama and Putin met the previous workweek\n",
      " Obama and Vladimir_Putin met the late calendar_week\n",
      " Obama and Vladimir_Vladimirovich_Putin met the former hebdomad\n"
     ]
    }
   ],
   "source": [
    "for i in range(3):\n",
    "    print(parap(s2,i))"
   ]
  },
  {
   "cell_type": "code",
   "execution_count": 75,
   "metadata": {},
   "outputs": [
    {
     "name": "stdout",
     "output_type": "stream",
     "text": [
      " At least 12 citizenry were killed in the engagement death workweek\n",
      " At to_the_lowest_degree 12 hoi_polloi were killed in the struggle lastly calendar_week\n",
      " At least 12 multitude were killed in the battle final_stage hebdomad\n"
     ]
    }
   ],
   "source": [
    "for i in range(3):\n",
    "    print(parap(s3,i))"
   ]
  },
  {
   "cell_type": "code",
   "execution_count": 76,
   "metadata": {},
   "outputs": [
    {
     "name": "stdout",
     "output_type": "stream",
     "text": [
      " I will belong plate and come back tomorrow\n",
      " I will rifle house and fare back tomorrow\n",
      " I will run nursing_home and total back tomorrow\n"
     ]
    }
   ],
   "source": [
    "for i in range(3):\n",
    "    print(parap(s4,i))"
   ]
  },
  {
   "cell_type": "code",
   "execution_count": null,
   "metadata": {},
   "outputs": [],
   "source": []
  }
 ],
 "metadata": {
  "kernelspec": {
   "display_name": "Python 3",
   "language": "python",
   "name": "python3"
  },
  "language_info": {
   "codemirror_mode": {
    "name": "ipython",
    "version": 3
   },
   "file_extension": ".py",
   "mimetype": "text/x-python",
   "name": "python",
   "nbconvert_exporter": "python",
   "pygments_lexer": "ipython3",
   "version": "3.7.6"
  }
 },
 "nbformat": 4,
 "nbformat_minor": 4
}
