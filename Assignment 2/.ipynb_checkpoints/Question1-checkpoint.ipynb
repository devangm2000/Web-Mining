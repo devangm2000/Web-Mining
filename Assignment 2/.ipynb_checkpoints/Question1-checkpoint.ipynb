{
 "cells": [
  {
   "cell_type": "code",
   "execution_count": 4,
   "metadata": {},
   "outputs": [],
   "source": [
    "import requests\n",
    "from bs4 import BeautifulSoup\n",
    "\n",
    "def get_links_recursive(base, path, visited, max_depth=5, depth=0):\n",
    "    print(\"----------\")\n",
    "    if depth < max_depth:\n",
    "        try:\n",
    "            \n",
    "            soup = BeautifulSoup(requests.get(base + path).text, \"html.parser\")\n",
    "            for link in soup.find_all(\"a\"):\n",
    "                href = link.get(\"href\")\n",
    "                if href not in visited:\n",
    "                    visited.add(href)\n",
    "                    print(f\"at depth {depth}: {href} : {count.depth}\")\n",
    "#                     count.depth=count+1;\n",
    "#                     if(count.depth>=5):\n",
    "#                         return;\n",
    "                    if href.startswith(\"http\"):\n",
    "                        get_links_recursive(href, \"\", visited, max_depth, depth + 1)\n",
    "                    else:\n",
    "                        get_links_recursive(base, href, visited, max_depth, depth + 1)\n",
    "        except:\n",
    "            pass"
   ]
  },
  {
   "cell_type": "code",
   "execution_count": 5,
   "metadata": {},
   "outputs": [
    {
     "name": "stdout",
     "output_type": "stream",
     "text": [
      "----------\n"
     ]
    }
   ],
   "source": [
    "from threading import Thread\n",
    "\n",
    "if __name__ == '__main__':\n",
    "    Thread(target =get_links_recursive(\"http://toscrape.com\", \"\", set([\"http://toscrape.com\"]))).start()"
   ]
  },
  {
   "cell_type": "code",
   "execution_count": null,
   "metadata": {},
   "outputs": [],
   "source": []
  }
 ],
 "metadata": {
  "kernelspec": {
   "display_name": "Python 3",
   "language": "python",
   "name": "python3"
  },
  "language_info": {
   "codemirror_mode": {
    "name": "ipython",
    "version": 3
   },
   "file_extension": ".py",
   "mimetype": "text/x-python",
   "name": "python",
   "nbconvert_exporter": "python",
   "pygments_lexer": "ipython3",
   "version": "3.7.6"
  }
 },
 "nbformat": 4,
 "nbformat_minor": 4
}
